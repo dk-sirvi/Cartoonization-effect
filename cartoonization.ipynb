{
 "cells": [
  {
   "cell_type": "code",
   "execution_count": null,
   "metadata": {},
   "outputs": [],
   "source": [
    "import cv2\n",
    "import numpy as np\n",
    "\n",
    "a=2\n",
    "b=7\n",
    "\n",
    "img1=cv2.imread(r\"a.jpg\")#add any image here\n",
    "img2=img1\n",
    "\n",
    "for _ in range(a):\n",
    "    img2 = cv2.pyrDown(img2)\n",
    "\n",
    "for _ in range(b):\n",
    "    img2=cv2.bilateralFilter(img2,d=9,sigmaColor=9,sigmaSpace=7)\n",
    "\n",
    "for _ in range(a):\n",
    "    img2=cv2.pyrUp(img2)\n",
    "    \n",
    "img_gray = cv2.cvtColor(img1,cv2.COLOR_RGB2GRAY)\n",
    "img_blur = cv2.medianBlur(img_gray,7)\n",
    "\n",
    "img_edge = cv2.adaptiveThreshold(img_blur,255,cv2.ADAPTIVE_THRESH_MEAN_C,cv2.THRESH_BINARY,blockSize=9,C=2)\n",
    "img_edge = cv2.cvtColor(img_edge,cv2.COLOR_GRAY2RGB)\n",
    "img_car = cv2.bitwise_and(img2,img_edge)\n",
    "\n",
    "cv2.imshow(\"cartoon image\",img_car)"
   ]
  }
 ],
 "metadata": {
  "kernelspec": {
   "display_name": "Python 3",
   "language": "python",
   "name": "python3"
  },
  "language_info": {
   "codemirror_mode": {
    "name": "ipython",
    "version": 3
   },
   "file_extension": ".py",
   "mimetype": "text/x-python",
   "name": "python",
   "nbconvert_exporter": "python",
   "pygments_lexer": "ipython3",
   "version": "3.8.3"
  }
 },
 "nbformat": 4,
 "nbformat_minor": 4
}
